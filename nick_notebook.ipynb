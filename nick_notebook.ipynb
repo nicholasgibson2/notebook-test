{
 "cells": [
  {
   "cell_type": "markdown",
   "id": "b42d1e3a",
   "metadata": {},
   "source": [
    "# Nick Notebook\n",
    "\n",
    "Nick's test notebook"
   ]
  },
  {
   "cell_type": "code",
   "execution_count": 1,
   "id": "d00ef9c8",
   "metadata": {},
   "outputs": [],
   "source": [
    "import os\n"
   ]
  },
  {
   "cell_type": "code",
   "execution_count": 2,
   "id": "93a85e66-6bcc-485c-8854-eaf4ec65d5c3",
   "metadata": {},
   "outputs": [],
   "source": [
    "snowflake_user = os.getenv(\"SNOWFLAKE_USER\")\n",
    "snowflake_password = os.getenv(\"SNOWFLAKE_PASSWORD\")\n"
   ]
  },
  {
   "cell_type": "code",
   "execution_count": 3,
   "id": "bb20dfb8-93bf-4701-8ef7-6587ac8e0751",
   "metadata": {},
   "outputs": [
    {
     "name": "stdout",
     "output_type": "stream",
     "text": [
      "nick@gmail.com\n",
      "hunter2"
     ]
    }
   ],
   "source": [
    "print(snowflake_user)\n",
    "print(snowflake_password)"
   ]
  }
 ],
 "metadata": {
  "kernelspec": {
   "display_name": "dev",
   "language": "python",
   "name": "dev"
  },
  "language_info": {
   "codemirror_mode": {
    "name": "ipython",
    "version": 3
   },
   "file_extension": ".py",
   "mimetype": "text/x-python",
   "name": "python",
   "nbconvert_exporter": "python",
   "pygments_lexer": "ipython3",
   "version": "3.7.11"
  }
 },
 "nbformat": 4,
 "nbformat_minor": 5
}
